{
 "metadata": {
  "language_info": {
   "codemirror_mode": {
    "name": "ipython",
    "version": 3
   },
   "file_extension": ".py",
   "mimetype": "text/x-python",
   "name": "python",
   "nbconvert_exporter": "python",
   "pygments_lexer": "ipython3",
   "version": "3.9.2"
  },
  "orig_nbformat": 4,
  "kernelspec": {
   "name": "python3",
   "display_name": "Python 3.9.2 64-bit ('scenario': conda)"
  },
  "interpreter": {
   "hash": "de914f62f1e06932e66cedef9a691444571c33ad49edfc2204df6cf622375246"
  }
 },
 "nbformat": 4,
 "nbformat_minor": 2,
 "cells": [
  {
   "cell_type": "code",
   "execution_count": 1,
   "metadata": {},
   "outputs": [],
   "source": [
    "def calculateChange(coins, price):\n",
    "    print(coins, price)\n",
    "    changes=[500, 200, 100, 50, 20, 10]\n",
    "    coinsToReturn=[]\n",
    "    myChange=coins-price\n",
    "    for i in changes:\n",
    "        if myChange>=i:\n",
    "            myChange-=i\n",
    "            coinsToReturn.append(i)\n",
    "    return coinsToReturn\n",
    "def vendingMachine(num,coins):\n",
    "    items=[\n",
    "    {'num':1,'price':100,'name':'Orange juice'}, \n",
    "    {'num':2,'price':200,'name':'Soda'},\n",
    "    {'num':3,'price':150,'name':'Chocolate snack'},\n",
    "    {'num':4,'price':250,'name':'Cookies'},\n",
    "    {'num':5,'price':180,'name':'Gummy bears'},\n",
    "    {'num':6,'price':500,'name':'Condoms'},\n",
    "    {'num':7,'price':120,'name':'Crackers'},\n",
    "    {'num':8,'price':220,'name':'Potato chips'},\n",
    "    {'num':9,'price':80,'name':'Small snack'}\n",
    "]\n",
    "    matches=[item for item in items if item['num']==num]\n",
    "    if len(matches)==0:\n",
    "        return \n",
    "    if coins<matches[0]['price']:\n",
    "        return 'xxx'\n",
    "    change = calculateChange(coins, matches[0]['price'])\n",
    "\n",
    "\n",
    "    return [matches[0]['name'], change]"
   ]
  },
  {
   "cell_type": "code",
   "execution_count": 2,
   "metadata": {},
   "outputs": [
    {
     "output_type": "stream",
     "name": "stdout",
     "text": [
      "None\n200 80\n['Small snack', [100, 20]]\nxxx\n220 220\n['Potato chips', []]\n"
     ]
    }
   ],
   "source": [
    "print(vendingMachine(10, 200))\n",
    "print(vendingMachine(9, 200))\n",
    "print(vendingMachine(8, 200))\n",
    "print(vendingMachine(8, 220))"
   ]
  },
  {
   "cell_type": "code",
   "execution_count": 3,
   "metadata": {},
   "outputs": [],
   "source": [
    "data=[\n",
    "    [100,'Orange juice'],\n",
    "    [200,'Soda'],\n",
    "    [150,'Chocolate snack'],\n",
    "    [250,'Cookies'],\n",
    "    [180,'Gummy bears'],\n",
    "    [500,'Condoms'],\n",
    "    [120,'Crackers'],\n",
    "    [220,'Potato chips'],\n",
    "    [80,'Small snack']\n",
    "]"
   ]
  },
  {
   "cell_type": "code",
   "execution_count": 4,
   "metadata": {},
   "outputs": [
    {
     "output_type": "execute_result",
     "data": {
      "text/plain": [
       "   Price             Name\n",
       "0    100     Orange juice\n",
       "1    200             Soda\n",
       "2    150  Chocolate snack\n",
       "3    250          Cookies\n",
       "4    180      Gummy bears\n",
       "5    500          Condoms\n",
       "6    120         Crackers\n",
       "7    220     Potato chips\n",
       "8     80      Small snack"
      ],
      "text/html": "<div>\n<style scoped>\n    .dataframe tbody tr th:only-of-type {\n        vertical-align: middle;\n    }\n\n    .dataframe tbody tr th {\n        vertical-align: top;\n    }\n\n    .dataframe thead th {\n        text-align: right;\n    }\n</style>\n<table border=\"1\" class=\"dataframe\">\n  <thead>\n    <tr style=\"text-align: right;\">\n      <th></th>\n      <th>Price</th>\n      <th>Name</th>\n    </tr>\n  </thead>\n  <tbody>\n    <tr>\n      <th>0</th>\n      <td>100</td>\n      <td>Orange juice</td>\n    </tr>\n    <tr>\n      <th>1</th>\n      <td>200</td>\n      <td>Soda</td>\n    </tr>\n    <tr>\n      <th>2</th>\n      <td>150</td>\n      <td>Chocolate snack</td>\n    </tr>\n    <tr>\n      <th>3</th>\n      <td>250</td>\n      <td>Cookies</td>\n    </tr>\n    <tr>\n      <th>4</th>\n      <td>180</td>\n      <td>Gummy bears</td>\n    </tr>\n    <tr>\n      <th>5</th>\n      <td>500</td>\n      <td>Condoms</td>\n    </tr>\n    <tr>\n      <th>6</th>\n      <td>120</td>\n      <td>Crackers</td>\n    </tr>\n    <tr>\n      <th>7</th>\n      <td>220</td>\n      <td>Potato chips</td>\n    </tr>\n    <tr>\n      <th>8</th>\n      <td>80</td>\n      <td>Small snack</td>\n    </tr>\n  </tbody>\n</table>\n</div>"
     },
     "metadata": {},
     "execution_count": 4
    }
   ],
   "source": [
    "import pandas as pd \n",
    "df=pd.DataFrame(data,columns=['Price','Name'])\n",
    "df"
   ]
  },
  {
   "cell_type": "code",
   "execution_count": 5,
   "metadata": {},
   "outputs": [
    {
     "output_type": "execute_result",
     "data": {
      "text/plain": [
       "[1200, 5]"
      ]
     },
     "metadata": {},
     "execution_count": 5
    }
   ],
   "source": [
    "def myChoice(mymoney,item):\n",
    "    yield from (mymoney,item)\n",
    "\n",
    "my=list(myChoice(1200,5))\n",
    "my"
   ]
  },
  {
   "cell_type": "code",
   "execution_count": 6,
   "metadata": {},
   "outputs": [
    {
     "output_type": "execute_result",
     "data": {
      "text/plain": [
       "['Condoms', 500, 700]"
      ]
     },
     "metadata": {},
     "execution_count": 6
    }
   ],
   "source": [
    "myList=[]\n",
    "for i,r in df.iterrows():\n",
    "    if my[1]==i:\n",
    "        myList.append(r[1])\n",
    "        myList.append(r[0])\n",
    "        myList.append(my[0]-r[0])\n",
    "myList"
   ]
  },
  {
   "cell_type": "code",
   "execution_count": 7,
   "metadata": {},
   "outputs": [
    {
     "output_type": "stream",
     "name": "stdout",
     "text": [
      "product is Condoms, change is [500, 200]\n"
     ]
    }
   ],
   "source": [
    "Change=[500,200,100,50,20,10]\n",
    "\n",
    "mychange=[]\n",
    "p=myList[2]\n",
    "for i in Change:\n",
    "    if p>=i:\n",
    "        p-=i \n",
    "        mychange.append(i)    \n",
    "print('product is {0}, change is {1}'.format(myList[0],mychange))"
   ]
  },
  {
   "cell_type": "code",
   "execution_count": null,
   "metadata": {},
   "outputs": [],
   "source": []
  }
 ]
}